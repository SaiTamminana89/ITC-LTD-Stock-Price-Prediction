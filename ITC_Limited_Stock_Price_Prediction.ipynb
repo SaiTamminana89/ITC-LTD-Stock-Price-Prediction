{
  "nbformat": 4,
  "nbformat_minor": 0,
  "metadata": {
    "colab": {
      "private_outputs": true,
      "provenance": [],
      "collapsed_sections": [
        "eiwtBzRhOQ5u"
      ]
    },
    "kernelspec": {
      "name": "python3",
      "display_name": "Python 3"
    },
    "language_info": {
      "name": "python"
    }
  },
  "cells": [
    {
      "cell_type": "markdown",
      "source": [],
      "metadata": {
        "id": "zr177khbWqW1"
      }
    },
    {
      "cell_type": "code",
      "execution_count": null,
      "metadata": {
        "id": "D6ouPBiv7rt7"
      },
      "outputs": [],
      "source": [
        "# importing pandas package\n",
        "import pandas as pd"
      ]
    },
    {
      "cell_type": "markdown",
      "source": [
        "Importing the dataset"
      ],
      "metadata": {
        "id": "ym9kmLhoWxHX"
      }
    },
    {
      "cell_type": "code",
      "source": [
        "df  = pd.read_csv('https://raw.githubusercontent.com/SaiTamminana89/csv/main/ITC.csv')\n",
        "df.head()"
      ],
      "metadata": {
        "id": "L8AHFDs084Ih"
      },
      "execution_count": null,
      "outputs": []
    },
    {
      "cell_type": "code",
      "source": [
        "# Here the above dataframe consists of stock price of ITC limited from 1996 to 2022\n",
        "# This Dataframe contains open price, high and low price  and volume of itc in respective dates and also close and adj close values"
      ],
      "metadata": {
        "id": "bGGYq_Ri9BS6"
      },
      "execution_count": null,
      "outputs": []
    },
    {
      "cell_type": "code",
      "source": [
        "#Date-- Date includes day and month and year\n",
        "#open -- open value of the ITC stock price on particular day\n",
        "#High -- high price value of ITC on particular day\n",
        "#lOW -- Low Price Value Of ITC on particular day\n",
        "#Close --Stock Price of Itc After Closing The Stock Market\n",
        "#Volume -- Volume of Itc means sum of buy's and shares\n",
        "#Adj close --Adjusted close is the closing price after adjustments for all applicable splits and dividend distributions\n",
        "# Suppose a stock closed at $300 the day before its stock split. In this case,\n",
        "# the closing price is adjusted to $100 ($300 divided by 3) per share to maintain \n",
        "#a consistent standard of comparison. Similarly, all other previous closing prices for that company\n",
        "# would be divided by three to obtain the adjusted closing prices."
      ],
      "metadata": {
        "id": "HbyptKeK9_u2"
      },
      "execution_count": null,
      "outputs": []
    },
    {
      "cell_type": "code",
      "source": [
        "# Based on the High,Low,Volume,open price we have to predict the Close price of the stock after market closed"
      ],
      "metadata": {
        "id": "CgLv0HnhBdSc"
      },
      "execution_count": null,
      "outputs": []
    },
    {
      "cell_type": "code",
      "source": [
        "df.describe()\n",
        "# it gives the statistical information about the dataframe"
      ],
      "metadata": {
        "id": "PoiKrzFuHbzL"
      },
      "execution_count": null,
      "outputs": []
    },
    {
      "cell_type": "code",
      "source": [
        "df.info()\n",
        "# gettin the information abou the dataframe"
      ],
      "metadata": {
        "id": "NI8bumynHmCI"
      },
      "execution_count": null,
      "outputs": []
    },
    {
      "cell_type": "markdown",
      "source": [
        "#DATA PREPROCESSING"
      ],
      "metadata": {
        "id": "z3_YUbW0H8qJ"
      }
    },
    {
      "cell_type": "code",
      "source": [
        "# Data Preprocessing Involves\n",
        "# Handling The Missing Values\n",
        "# Missing Values in the sense NaN values in the dataset\n",
        "# Removing the Duplicate Values\n",
        "# Removing the Incorrect format\n",
        "# removing the inaccurate data etc"
      ],
      "metadata": {
        "id": "JSKgphc6HZj4"
      },
      "execution_count": null,
      "outputs": []
    },
    {
      "cell_type": "code",
      "source": [
        "df.isnull().sum()\n",
        "# it gives the null values present in the each column of the datframe"
      ],
      "metadata": {
        "id": "VyyzSegQLE7L"
      },
      "execution_count": null,
      "outputs": []
    },
    {
      "cell_type": "code",
      "source": [
        "# in above open  and high and low,close,adj close,volume contains 11  missing values we have to replace it"
      ],
      "metadata": {
        "id": "owi-Gl7LLMbg"
      },
      "execution_count": null,
      "outputs": []
    },
    {
      "cell_type": "code",
      "source": [
        "df['Open'] =df['Open'].fillna(df['Open'].mean())\n",
        "# replacing the missing values with the mean of the opem"
      ],
      "metadata": {
        "id": "-TLTGULuLZKP"
      },
      "execution_count": null,
      "outputs": []
    },
    {
      "cell_type": "code",
      "source": [
        "df['High'] = df['High'].fillna(df['High'].mean())\n",
        "# replacing the missing values with the mean of the High"
      ],
      "metadata": {
        "id": "ks1WQ5GwL0QR"
      },
      "execution_count": null,
      "outputs": []
    },
    {
      "cell_type": "code",
      "source": [
        "df['Low'] = df['Low'].fillna(df['Low'].mean())\n",
        "# replacing the missing values with the mean of the LOw"
      ],
      "metadata": {
        "id": "Hq84ZePSMC0f"
      },
      "execution_count": null,
      "outputs": []
    },
    {
      "cell_type": "code",
      "source": [
        "df['Close'] = df['Close'].fillna(df['Close'].mean())\n",
        "# replacing the missing values with the mean of the Close"
      ],
      "metadata": {
        "id": "ptqKZ3SLMHGA"
      },
      "execution_count": null,
      "outputs": []
    },
    {
      "cell_type": "code",
      "source": [
        "df['Adj Close'] = df['Adj Close'].fillna(df['Adj Close'].mean())\n",
        "# replacing the missing values with the mean of the Adj Close"
      ],
      "metadata": {
        "id": "A2pRuFkWMJYN"
      },
      "execution_count": null,
      "outputs": []
    },
    {
      "cell_type": "code",
      "source": [
        "df['Volume'] = df['Volume'].fillna(df['Volume'].mean())\n",
        "# replacing the missing values with the mean of the Volume"
      ],
      "metadata": {
        "id": "hxOVpmQcMKDl"
      },
      "execution_count": null,
      "outputs": []
    },
    {
      "cell_type": "code",
      "source": [
        "df.isnull().sum()\n",
        "# there is no missing values in the dataframe"
      ],
      "metadata": {
        "id": "3K9FUH-rMu9b"
      },
      "execution_count": null,
      "outputs": []
    },
    {
      "cell_type": "code",
      "source": [
        "# Finding the duplicate values\n",
        "print(df.duplicated().sum()) # gives the duplicate values in the dataset"
      ],
      "metadata": {
        "id": "BwyMz2OINAdI"
      },
      "execution_count": null,
      "outputs": []
    },
    {
      "cell_type": "code",
      "source": [
        "# there is no duplicate values in the above dataframe"
      ],
      "metadata": {
        "id": "e8aOXPvdNMaA"
      },
      "execution_count": null,
      "outputs": []
    },
    {
      "cell_type": "code",
      "source": [
        "# there is no incorrect dataformat in the dataset\n",
        "# hence we have to move to the next step that is DataVisualization"
      ],
      "metadata": {
        "id": "i4R6UfF-Nw1T"
      },
      "execution_count": null,
      "outputs": []
    },
    {
      "cell_type": "markdown",
      "source": [
        "#DATA VISUALIZATION"
      ],
      "metadata": {
        "id": "eiwtBzRhOQ5u"
      }
    },
    {
      "cell_type": "code",
      "source": [
        "# Data Visualization is Nothing but visualizing the data using graphs in an understandable manner"
      ],
      "metadata": {
        "id": "ybrfN3vNOT2W"
      },
      "execution_count": null,
      "outputs": []
    },
    {
      "cell_type": "code",
      "source": [
        "df.head(2)"
      ],
      "metadata": {
        "id": "zInrrCZ3Ohks"
      },
      "execution_count": null,
      "outputs": []
    },
    {
      "cell_type": "code",
      "source": [
        "#Visualizing Using the SCatter PLots"
      ],
      "metadata": {
        "id": "E2wknpIMOjg3"
      },
      "execution_count": null,
      "outputs": []
    },
    {
      "cell_type": "code",
      "source": [
        "# we have to import data visualization library\n",
        "import matplotlib.pyplot as plt"
      ],
      "metadata": {
        "id": "Jbv45q3HOn-t"
      },
      "execution_count": null,
      "outputs": []
    },
    {
      "cell_type": "code",
      "source": [
        "plt.xlabel('Close')\n",
        "plt.ylabel('open')\n",
        "plt.title('close and open')\n",
        "plt.scatter(df['Close'],df['Open'],c='red',alpha=0.5)"
      ],
      "metadata": {
        "id": "32x2zy48OxUf"
      },
      "execution_count": null,
      "outputs": []
    },
    {
      "cell_type": "code",
      "source": [
        "# we found that close price and open price are highly correlated"
      ],
      "metadata": {
        "id": "_oq4kLmdPywz"
      },
      "execution_count": null,
      "outputs": []
    },
    {
      "cell_type": "code",
      "source": [
        "plt.xlabel('Close')\n",
        "plt.ylabel('Low')\n",
        "plt.title('close and Low')\n",
        "plt.scatter(df['Close'],df['Low'],c='orange',alpha=0.3)"
      ],
      "metadata": {
        "id": "TS8WFCG0P4qw"
      },
      "execution_count": null,
      "outputs": []
    },
    {
      "cell_type": "code",
      "source": [
        "# we found that close price and low price are highly correlated"
      ],
      "metadata": {
        "id": "DNLxUnmpQyRZ"
      },
      "execution_count": null,
      "outputs": []
    },
    {
      "cell_type": "code",
      "source": [
        "plt.xlabel('Close')\n",
        "plt.ylabel('High')\n",
        "plt.title('close and High')\n",
        "plt.scatter(df['Close'],df['High'],c='maroon',alpha=0.5)"
      ],
      "metadata": {
        "id": "qJVogDSiQAKT"
      },
      "execution_count": null,
      "outputs": []
    },
    {
      "cell_type": "code",
      "source": [
        "# we found that close price and High price are highly correlated"
      ],
      "metadata": {
        "id": "0MnBdiQwQ11y"
      },
      "execution_count": null,
      "outputs": []
    },
    {
      "cell_type": "code",
      "source": [
        "plt.xlabel('Close')\n",
        "plt.ylabel('Volume')\n",
        "plt.title('close and Volume')\n",
        "plt.scatter(df['Close'],df['Volume'],c=\"Blue\",alpha=0.5)"
      ],
      "metadata": {
        "id": "CBTJOxZaQA5-"
      },
      "execution_count": null,
      "outputs": []
    },
    {
      "cell_type": "code",
      "source": [
        "# we found that close price and Volume are not much correlated"
      ],
      "metadata": {
        "id": "j6_FitzgQ5RZ"
      },
      "execution_count": null,
      "outputs": []
    },
    {
      "cell_type": "code",
      "source": [
        "# data visualization using line PLot and using different line styles"
      ],
      "metadata": {
        "id": "kz2LtFGKRopu"
      },
      "execution_count": null,
      "outputs": []
    },
    {
      "cell_type": "code",
      "source": [
        "plt.xlabel('Close')\n",
        "plt.ylabel('Volume')\n",
        "plt.title('close and Volume')\n",
        "plt.plot(df['Close'],df['Volume'],c=\"Blue\",alpha=1,linestyle='dotted')\n",
        "# plotting the line using dotted style"
      ],
      "metadata": {
        "id": "icbMTEE9RvCh"
      },
      "execution_count": null,
      "outputs": []
    },
    {
      "cell_type": "code",
      "source": [
        "plt.xlabel('Close')\n",
        "plt.ylabel('High')\n",
        "plt.title('close and Volume')\n",
        "plt.plot(df['Close'],df['High'],c=\"Green\",alpha=1,linestyle='dashed')\n",
        "#line plot using the line style dashes"
      ],
      "metadata": {
        "id": "4vBO1XDkSRN6"
      },
      "execution_count": null,
      "outputs": []
    },
    {
      "cell_type": "code",
      "source": [
        "plt.xlabel('Close')\n",
        "plt.ylabel('open')\n",
        "plt.title('close and Open')\n",
        "plt.plot(df['Close'],df['Open'],c=\"orange\",alpha=1,linestyle='solid')\n",
        "#line plot using the line style solid data style"
      ],
      "metadata": {
        "id": "eItmgKPJSgJE"
      },
      "execution_count": null,
      "outputs": []
    },
    {
      "cell_type": "code",
      "source": [
        "# Data Visualization using the Box PLot\n",
        "plt.boxplot(df['Close'])\n",
        "# Box Plot For Close"
      ],
      "metadata": {
        "id": "NXTQXcVKTcGE"
      },
      "execution_count": null,
      "outputs": []
    },
    {
      "cell_type": "code",
      "source": [
        "plt.boxplot(df['Open'])"
      ],
      "metadata": {
        "id": "a2rdzcDqTle9"
      },
      "execution_count": null,
      "outputs": []
    },
    {
      "cell_type": "code",
      "source": [
        "plt.boxplot(df['Volume'])"
      ],
      "metadata": {
        "id": "GmvU5-VMTtiu"
      },
      "execution_count": null,
      "outputs": []
    },
    {
      "cell_type": "code",
      "source": [
        "plt.boxplot(df['High'])\n",
        "# Box plot for High"
      ],
      "metadata": {
        "id": "zkIUQTRuT88I"
      },
      "execution_count": null,
      "outputs": []
    },
    {
      "cell_type": "code",
      "source": [
        "# Fitting a regression plot for close and other highly correlated variabes"
      ],
      "metadata": {
        "id": "5a5C1iBJUEev"
      },
      "execution_count": null,
      "outputs": []
    },
    {
      "cell_type": "code",
      "source": [
        "# to fit a regression plot we have to import seaborn\n",
        "import seaborn as sns"
      ],
      "metadata": {
        "id": "El9apCj7UNqH"
      },
      "execution_count": null,
      "outputs": []
    },
    {
      "cell_type": "code",
      "source": [
        "\n",
        "sns.lmplot(x = 'Close',y='Open',data=df)\n",
        "  # regression plot for open and close"
      ],
      "metadata": {
        "id": "ovWgFre1UVfW"
      },
      "execution_count": null,
      "outputs": []
    },
    {
      "cell_type": "code",
      "source": [
        "\n",
        "sns.lmplot(x = 'Close',y='High',data=df)\n",
        "# regression plot for High and close"
      ],
      "metadata": {
        "id": "0hgpZC4YU6NQ"
      },
      "execution_count": null,
      "outputs": []
    },
    {
      "cell_type": "code",
      "source": [
        "\n",
        "sns.lmplot(x = 'Close',y='Low',data=df)\n",
        "# regression plot for High and close"
      ],
      "metadata": {
        "id": "oC9WvuWXU6yV"
      },
      "execution_count": null,
      "outputs": []
    },
    {
      "cell_type": "code",
      "source": [
        "plt.hist(df['Close'])\n",
        "# Hitogram for close in"
      ],
      "metadata": {
        "id": "_AK14rw6VIF_"
      },
      "execution_count": null,
      "outputs": []
    },
    {
      "cell_type": "code",
      "source": [
        "plt.hist(df['Open'])\n",
        "# Hitogram for Open "
      ],
      "metadata": {
        "id": "16lcSZVQVhMq"
      },
      "execution_count": null,
      "outputs": []
    },
    {
      "cell_type": "code",
      "source": [
        "plt.hist(df['High'])\n",
        "# histogram for high"
      ],
      "metadata": {
        "id": "uB2gNxecVmL9"
      },
      "execution_count": null,
      "outputs": []
    },
    {
      "cell_type": "code",
      "source": [
        "# we found that open and high and low are highly correlated with close using Data VisualiZation\n",
        "# Visualizing the data Using Scatter Plot,line plot,Regression PLot,Box plot and Histogram\n",
        "# WE have to move to the next step that is Data Modelling or making model"
      ],
      "metadata": {
        "id": "FIFywNrJVyO9"
      },
      "execution_count": null,
      "outputs": []
    },
    {
      "cell_type": "markdown",
      "source": [
        "#DATA MODELLING"
      ],
      "metadata": {
        "id": "v2ylLDPMWOmW"
      }
    },
    {
      "cell_type": "code",
      "source": [
        "# data modelling involve the using a machine learning algorthim\n",
        "# and train the model and \n",
        "#testing the model and \n",
        "# checking the accuracy or perormance of the model"
      ],
      "metadata": {
        "id": "Abv26_x6WTpj"
      },
      "execution_count": null,
      "outputs": []
    },
    {
      "cell_type": "markdown",
      "source": [
        "#MAKING MODEL WITH DECISON TREE ALGORTJIM"
      ],
      "metadata": {
        "id": "Cnx4jLfBZrD9"
      }
    },
    {
      "cell_type": "code",
      "source": [
        "x = df.iloc[:,[1,2,3,6]] # Assigning the High,Low,Volume And open to the x\n",
        "y = df.iloc[:,4] # Assigning the Close price to y"
      ],
      "metadata": {
        "id": "o1w-AWVMaKIZ"
      },
      "execution_count": null,
      "outputs": []
    },
    {
      "cell_type": "code",
      "source": [
        "x.head(3)"
      ],
      "metadata": {
        "id": "qTB4lfxnaNZ6"
      },
      "execution_count": null,
      "outputs": []
    },
    {
      "cell_type": "code",
      "source": [
        "y.head(3)"
      ],
      "metadata": {
        "id": "zABdLXAVaQcM"
      },
      "execution_count": null,
      "outputs": []
    },
    {
      "cell_type": "code",
      "source": [
        "from sklearn.model_selection import train_test_split\n",
        "x_train,x_test,y_train,y_test = train_test_split(x,y)"
      ],
      "metadata": {
        "id": "rzhaLOM2gHGM"
      },
      "execution_count": null,
      "outputs": []
    },
    {
      "cell_type": "code",
      "source": [
        "print(x_train.shape)\n",
        "print(x_test.shape)\n",
        "print(y_train.shape)\n",
        "print(y_test.shape)"
      ],
      "metadata": {
        "id": "ytKnvMkUghyM"
      },
      "execution_count": null,
      "outputs": []
    },
    {
      "cell_type": "code",
      "source": [
        "from sklearn import tree\n",
        "# importing tree from sklearn library"
      ],
      "metadata": {
        "id": "9jI9N5rNgvZS"
      },
      "execution_count": null,
      "outputs": []
    },
    {
      "cell_type": "code",
      "source": [
        "model = tree.DecisionTreeRegressor()"
      ],
      "metadata": {
        "id": "u3uO7F4FZknf"
      },
      "execution_count": null,
      "outputs": []
    },
    {
      "cell_type": "code",
      "source": [
        "Dmodel = model.fit(x_train,y_train) # training the model with x and y values"
      ],
      "metadata": {
        "id": "PaZtPUyGhnQl"
      },
      "execution_count": null,
      "outputs": []
    },
    {
      "cell_type": "code",
      "source": [
        "pred_y = Dmodel.predict(x_test)\n",
        "# predicting the output y using x values using decisiontreeregressor"
      ],
      "metadata": {
        "id": "VNrgfGxuaTQV"
      },
      "execution_count": null,
      "outputs": []
    },
    {
      "cell_type": "code",
      "source": [
        "pred_y"
      ],
      "metadata": {
        "id": "Cio4_lJKfAM8"
      },
      "execution_count": null,
      "outputs": []
    },
    {
      "cell_type": "code",
      "source": [
        "print(pred_y.shape)\n",
        "print(y_test.shape)\n",
        "# gives the shape of the pred_y and y\n"
      ],
      "metadata": {
        "id": "fLytLQ7-aiDk"
      },
      "execution_count": null,
      "outputs": []
    },
    {
      "cell_type": "code",
      "source": [
        "# checking the performance of the model"
      ],
      "metadata": {
        "id": "ixCYP9LXatlu"
      },
      "execution_count": null,
      "outputs": []
    },
    {
      "cell_type": "code",
      "source": [
        "from sklearn.metrics import r2_score\n",
        "r2_score(pred_y,y_test)"
      ],
      "metadata": {
        "id": "1E5V19Qgax_P"
      },
      "execution_count": null,
      "outputs": []
    },
    {
      "cell_type": "code",
      "source": [
        "# Accuracy of mymodel is 1\n",
        "# this is the accurate model and highest performance"
      ],
      "metadata": {
        "id": "3WL4Vn5wbWNr"
      },
      "execution_count": null,
      "outputs": []
    },
    {
      "cell_type": "code",
      "source": [
        "x.head(2)"
      ],
      "metadata": {
        "id": "xvFT36O2bnLn"
      },
      "execution_count": null,
      "outputs": []
    },
    {
      "cell_type": "code",
      "source": [
        "# predicting the close price on the basis of open High and Low and Volume"
      ],
      "metadata": {
        "id": "ELEq2ai0bgdY"
      },
      "execution_count": null,
      "outputs": []
    },
    {
      "cell_type": "code",
      "source": [
        "Dmodel.predict([[240,256,243,100000]])"
      ],
      "metadata": {
        "id": "1uQsvyzgbr95"
      },
      "execution_count": null,
      "outputs": []
    },
    {
      "cell_type": "code",
      "source": [
        "Dmodel.predict([[180,192,183,99900]])"
      ],
      "metadata": {
        "id": "h78YYDzvca6V"
      },
      "execution_count": null,
      "outputs": []
    },
    {
      "cell_type": "code",
      "source": [
        "Dmodel.predict([[315,316,312,98542\t]])"
      ],
      "metadata": {
        "id": "DftE_1b1rCVh"
      },
      "execution_count": null,
      "outputs": []
    },
    {
      "cell_type": "code",
      "source": [
        "# on 9/15/2022\n",
        "Dmodel.predict([[ 336.40,337.05,332.90,6209633]])       "
      ],
      "metadata": {
        "id": "3hxrpiVi03-M"
      },
      "execution_count": null,
      "outputs": []
    },
    {
      "cell_type": "code",
      "source": [
        "x.head(1)"
      ],
      "metadata": {
        "id": "j6AdddBfVs0n"
      },
      "execution_count": null,
      "outputs": []
    },
    {
      "cell_type": "markdown",
      "source": [
        "#MAKING MODEL WITH RANDOM FOREST REGRESSOR"
      ],
      "metadata": {
        "id": "g-pcLVN2csHU"
      }
    },
    {
      "cell_type": "code",
      "source": [
        "from sklearn.ensemble import RandomForestRegressor\n",
        "# importing randomforest regressor using sklearn.ensemble"
      ],
      "metadata": {
        "id": "ZuG4UQWheHOW"
      },
      "execution_count": null,
      "outputs": []
    },
    {
      "cell_type": "code",
      "source": [
        "# making model with randomforestregressor\n",
        "model = RandomForestRegressor()"
      ],
      "metadata": {
        "id": "vYL1-MnxeX9K"
      },
      "execution_count": null,
      "outputs": []
    },
    {
      "cell_type": "code",
      "source": [
        "# training the model\n",
        "Rmodel = model.fit(x,y)"
      ],
      "metadata": {
        "id": "XBAqyFpree83"
      },
      "execution_count": null,
      "outputs": []
    },
    {
      "cell_type": "code",
      "source": [
        "# predicting the output\n",
        "Rpred_y = Rmodel.predict(x)"
      ],
      "metadata": {
        "id": "A6v1vwoael8h"
      },
      "execution_count": null,
      "outputs": []
    },
    {
      "cell_type": "code",
      "source": [
        "Rpred_y"
      ],
      "metadata": {
        "id": "_eYDzC3ue3Vc"
      },
      "execution_count": null,
      "outputs": []
    },
    {
      "cell_type": "code",
      "source": [
        "# checking the accuracy score"
      ],
      "metadata": {
        "id": "rH-AAe5PfFkg"
      },
      "execution_count": null,
      "outputs": []
    },
    {
      "cell_type": "code",
      "source": [
        "from sklearn.metrics import r2_score\n",
        "r2_score(Rpred_y,y)"
      ],
      "metadata": {
        "id": "_XA7ki8TfIie"
      },
      "execution_count": null,
      "outputs": []
    },
    {
      "cell_type": "code",
      "source": [
        "# performance of the above model"
      ],
      "metadata": {
        "id": "NcWG5SbwfRn1"
      },
      "execution_count": null,
      "outputs": []
    },
    {
      "cell_type": "code",
      "source": [
        "# Predicting the close price \n",
        "Rmodel.predict([[240,256,243,100000]])"
      ],
      "metadata": {
        "id": "GsbAniFfff6z"
      },
      "execution_count": null,
      "outputs": []
    },
    {
      "cell_type": "code",
      "source": [
        "# closing price is array([249.12516511])"
      ],
      "metadata": {
        "id": "dGF4ZfUlf-On"
      },
      "execution_count": null,
      "outputs": []
    },
    {
      "cell_type": "code",
      "source": [
        "Rmodel.predict([[220,225,219,120000]])"
      ],
      "metadata": {
        "id": "-gL6Rs6tf0LP"
      },
      "execution_count": null,
      "outputs": []
    },
    {
      "cell_type": "code",
      "source": [
        "# closing price is -- array([223.25083466])"
      ],
      "metadata": {
        "id": "G0YXTlbQgGQ2"
      },
      "execution_count": null,
      "outputs": []
    },
    {
      "cell_type": "markdown",
      "source": [
        "#Making Model With KNearestRegressor"
      ],
      "metadata": {
        "id": "0BETFvcygKsO"
      }
    },
    {
      "cell_type": "code",
      "source": [
        "from sklearn.neighbors import KNeighborsRegressor\n",
        "# importing KNeighborsRegressor from sklearn library"
      ],
      "metadata": {
        "id": "G6vmpMCrgwPz"
      },
      "execution_count": null,
      "outputs": []
    },
    {
      "cell_type": "code",
      "source": [
        "model = KNeighborsRegressor()\n",
        "# making model"
      ],
      "metadata": {
        "id": "eosJ-IHEg9y7"
      },
      "execution_count": null,
      "outputs": []
    },
    {
      "cell_type": "code",
      "source": [
        "from sklearn.model_selection import train_test_split\n",
        "# importing train_test_split to split the data"
      ],
      "metadata": {
        "id": "vGbp4xdshGY-"
      },
      "execution_count": null,
      "outputs": []
    },
    {
      "cell_type": "code",
      "source": [
        "x_train,x_test,y_train,y_test = ta=train_test_split(x,y)\n",
        "# splitting the x and y values into train and test"
      ],
      "metadata": {
        "id": "LejG7Y-0hL9l"
      },
      "execution_count": null,
      "outputs": []
    },
    {
      "cell_type": "code",
      "source": [
        "x_train.shape\n",
        "# give the shape of the x_train"
      ],
      "metadata": {
        "id": "FtNZANpthqHx"
      },
      "execution_count": null,
      "outputs": []
    },
    {
      "cell_type": "code",
      "source": [
        "y_train.shape\n",
        "# gives the shape of the y_train"
      ],
      "metadata": {
        "id": "tKwsimPziBA9"
      },
      "execution_count": null,
      "outputs": []
    },
    {
      "cell_type": "code",
      "source": [
        "x_test.shape\n",
        "# gives the shape of the x_test"
      ],
      "metadata": {
        "id": "oXJiXpijiOKr"
      },
      "execution_count": null,
      "outputs": []
    },
    {
      "cell_type": "code",
      "source": [
        "y_test.shape\n",
        "# gives the shape of the y_test"
      ],
      "metadata": {
        "id": "T9r45SSGiSJP"
      },
      "execution_count": null,
      "outputs": []
    },
    {
      "cell_type": "code",
      "source": [
        "kmodel = model.fit(x_train,y_train)\n",
        "# training the model"
      ],
      "metadata": {
        "id": "qDUmuFQkieSa"
      },
      "execution_count": null,
      "outputs": []
    },
    {
      "cell_type": "code",
      "source": [
        "kpred_y = kmodel.predict(x_test)"
      ],
      "metadata": {
        "id": "ixIZ8Wasin9G"
      },
      "execution_count": null,
      "outputs": []
    },
    {
      "cell_type": "code",
      "source": [
        "kpred_y"
      ],
      "metadata": {
        "id": "DscOb6B0iwcc"
      },
      "execution_count": null,
      "outputs": []
    },
    {
      "cell_type": "code",
      "source": [
        "# checking the accuracy of the model\n",
        "from sklearn.metrics import r2_score\n",
        "r2_score(kpred_y,y_test)"
      ],
      "metadata": {
        "id": "-a8C9pzMix9T"
      },
      "execution_count": null,
      "outputs": []
    },
    {
      "cell_type": "code",
      "source": [
        "# this is very inaccurate model this algorthim didn't work well for  this data"
      ],
      "metadata": {
        "id": "Qe5-YFFckhGz"
      },
      "execution_count": null,
      "outputs": []
    },
    {
      "cell_type": "markdown",
      "source": [
        "#making model with Multiple linearRegression"
      ],
      "metadata": {
        "id": "vu1gzDo0kLXU"
      }
    },
    {
      "cell_type": "code",
      "source": [
        "from sklearn.linear_model import LinearRegression"
      ],
      "metadata": {
        "id": "EgoXBH2QjO_p"
      },
      "execution_count": null,
      "outputs": []
    },
    {
      "cell_type": "code",
      "source": [
        "model = LinearRegression()\n",
        "# making model with linear regression"
      ],
      "metadata": {
        "id": "TIRVN9ORjXB-"
      },
      "execution_count": null,
      "outputs": []
    },
    {
      "cell_type": "code",
      "source": [
        "mymodel = model.fit(x_train,y_train)\n",
        "# training the model"
      ],
      "metadata": {
        "id": "Cedd69fcjfz1"
      },
      "execution_count": null,
      "outputs": []
    },
    {
      "cell_type": "code",
      "source": [
        "# predicting the outputs using test data set\n",
        "lpred_y = mymodel.predict(x_test)"
      ],
      "metadata": {
        "id": "Fo7sCrAdjfoq"
      },
      "execution_count": null,
      "outputs": []
    },
    {
      "cell_type": "code",
      "source": [
        "lpred_y"
      ],
      "metadata": {
        "id": "cdDYHwvnjxQT"
      },
      "execution_count": null,
      "outputs": []
    },
    {
      "cell_type": "code",
      "source": [
        "lpred_y.shape"
      ],
      "metadata": {
        "id": "nAGlvys0jy8f"
      },
      "execution_count": null,
      "outputs": []
    },
    {
      "cell_type": "code",
      "source": [
        "#checking the accuracy of the model\n",
        "r2_score(lpred_y,y_test)"
      ],
      "metadata": {
        "id": "j0SnhVy-j06r"
      },
      "execution_count": null,
      "outputs": []
    },
    {
      "cell_type": "code",
      "source": [
        "mymodel.predict([[120,130,123,980000]])\n",
        "# predicting the close price"
      ],
      "metadata": {
        "id": "esyc6AENkRZa"
      },
      "execution_count": null,
      "outputs": []
    },
    {
      "cell_type": "code",
      "source": [
        "# output for the close price is array([130.04456352])"
      ],
      "metadata": {
        "id": "Zn0n8YAGkdSl"
      },
      "execution_count": null,
      "outputs": []
    }
  ]
}